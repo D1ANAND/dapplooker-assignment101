{
 "cells": [
  {
   "cell_type": "markdown",
   "metadata": {},
   "source": [
    "### Converting Json to Jsonl"
   ]
  },
  {
   "cell_type": "code",
   "execution_count": 2,
   "metadata": {},
   "outputs": [],
   "source": [
    "import json\n",
    "\n",
    "# Read the JSON file\n",
    "with open('10000dataset.json', 'r') as f:\n",
    "    data = json.load(f)\n",
    "\n",
    "# Open a new file for JSONL output\n",
    "with open('output.jsonl', 'w') as f:\n",
    "    for item in data:\n",
    "        # Write each item as a JSON string on a new line\n",
    "        f.write(json.dumps(item) + '\\n')\n"
   ]
  },
  {
   "cell_type": "markdown",
   "metadata": {},
   "source": [
    "### Shuffling Jsonl Randomly"
   ]
  },
  {
   "cell_type": "code",
   "execution_count": null,
   "metadata": {},
   "outputs": [],
   "source": [
    "import json\n",
    "import random\n",
    "\n",
    "# Read the JSONL file\n",
    "with open('input.jsonl', 'r') as f:\n",
    "    lines = f.readlines()\n",
    "\n",
    "# Shuffle the lines randomly\n",
    "random.shuffle(lines)\n",
    "\n",
    "# Write the shuffled lines to a new JSONL file\n",
    "with open('shuffled_output.jsonl', 'w') as f:\n",
    "    f.writelines(lines)\n"
   ]
  }
 ],
 "metadata": {
  "kernelspec": {
   "display_name": "Python 3",
   "language": "python",
   "name": "python3"
  },
  "language_info": {
   "codemirror_mode": {
    "name": "ipython",
    "version": 3
   },
   "file_extension": ".py",
   "mimetype": "text/x-python",
   "name": "python",
   "nbconvert_exporter": "python",
   "pygments_lexer": "ipython3",
   "version": "3.12.3"
  }
 },
 "nbformat": 4,
 "nbformat_minor": 2
}
